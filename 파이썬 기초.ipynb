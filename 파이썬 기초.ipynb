{
 "cells": [
  {
   "cell_type": "code",
   "execution_count": 1,
   "id": "1e9ebcc1",
   "metadata": {},
   "outputs": [
    {
     "data": {
      "text/plain": [
       "5"
      ]
     },
     "execution_count": 1,
     "metadata": {},
     "output_type": "execute_result"
    }
   ],
   "source": [
    "a = 1\n",
    "b = 4\n",
    "a + b"
   ]
  },
  {
   "cell_type": "code",
   "execution_count": 2,
   "id": "e466e8ad",
   "metadata": {},
   "outputs": [
    {
     "name": "stdout",
     "output_type": "stream",
     "text": [
      "5\n"
     ]
    }
   ],
   "source": [
    "c = a + b\n",
    "print(c)"
   ]
  },
  {
   "cell_type": "code",
   "execution_count": 3,
   "id": "09c17a77",
   "metadata": {},
   "outputs": [],
   "source": [
    "a = 30"
   ]
  },
  {
   "cell_type": "code",
   "execution_count": 4,
   "id": "4b17aaab",
   "metadata": {},
   "outputs": [
    {
     "name": "stdout",
     "output_type": "stream",
     "text": [
      "30\n"
     ]
    }
   ],
   "source": [
    "print(a)"
   ]
  },
  {
   "cell_type": "code",
   "execution_count": 5,
   "id": "9b0266e6",
   "metadata": {},
   "outputs": [
    {
     "name": "stdout",
     "output_type": "stream",
     "text": [
      "34\n"
     ]
    }
   ],
   "source": [
    "print(a + b)"
   ]
  },
  {
   "cell_type": "code",
   "execution_count": 6,
   "id": "424914f5",
   "metadata": {},
   "outputs": [
    {
     "name": "stdout",
     "output_type": "stream",
     "text": [
      "26\n",
      "120\n",
      "7.5\n"
     ]
    }
   ],
   "source": [
    "print(a - b)\n",
    "print(a * b)\n",
    "print(a / b)"
   ]
  },
  {
   "cell_type": "code",
   "execution_count": 7,
   "id": "8cc0f482",
   "metadata": {},
   "outputs": [],
   "source": [
    "c = a * b + c"
   ]
  },
  {
   "cell_type": "code",
   "execution_count": 8,
   "id": "87e2c255",
   "metadata": {},
   "outputs": [
    {
     "data": {
      "text/plain": [
       "125"
      ]
     },
     "execution_count": 8,
     "metadata": {},
     "output_type": "execute_result"
    }
   ],
   "source": [
    "c"
   ]
  },
  {
   "cell_type": "code",
   "execution_count": 9,
   "id": "2f0894c2",
   "metadata": {},
   "outputs": [
    {
     "data": {
      "text/plain": [
       "125"
      ]
     },
     "execution_count": 9,
     "metadata": {},
     "output_type": "execute_result"
    }
   ],
   "source": [
    "c"
   ]
  },
  {
   "cell_type": "code",
   "execution_count": 12,
   "id": "d03553a9",
   "metadata": {},
   "outputs": [
    {
     "name": "stdout",
     "output_type": "stream",
     "text": [
      "30\n",
      "4\n",
      "2\n"
     ]
    }
   ],
   "source": [
    "print(a)\n",
    "print(b)\n",
    "d = a % b\n",
    "print(d)"
   ]
  },
  {
   "cell_type": "code",
   "execution_count": 13,
   "id": "1c5239ed",
   "metadata": {},
   "outputs": [
    {
     "data": {
      "text/plain": [
       "15.36"
      ]
     },
     "execution_count": 13,
     "metadata": {},
     "output_type": "execute_result"
    }
   ],
   "source": [
    "a = 3.2\n",
    "b = 4.8\n",
    "a * b"
   ]
  },
  {
   "cell_type": "code",
   "execution_count": 15,
   "id": "21e36dfd",
   "metadata": {},
   "outputs": [],
   "source": [
    "name = '이성용'\n",
    "hello = \"안녕하세요\""
   ]
  },
  {
   "cell_type": "code",
   "execution_count": 16,
   "id": "a608ca36",
   "metadata": {},
   "outputs": [
    {
     "name": "stdout",
     "output_type": "stream",
     "text": [
      "이성용\n"
     ]
    }
   ],
   "source": [
    "print(name)"
   ]
  },
  {
   "cell_type": "code",
   "execution_count": 17,
   "id": "0121fbd4",
   "metadata": {},
   "outputs": [
    {
     "name": "stdout",
     "output_type": "stream",
     "text": [
      "안녕하세요\n"
     ]
    }
   ],
   "source": [
    "print(hello)"
   ]
  },
  {
   "cell_type": "code",
   "execution_count": 18,
   "id": "cd58972f",
   "metadata": {},
   "outputs": [
    {
     "name": "stdout",
     "output_type": "stream",
     "text": [
      "이성용안녕하세요\n"
     ]
    }
   ],
   "source": [
    "print(name + hello)"
   ]
  },
  {
   "cell_type": "code",
   "execution_count": 19,
   "id": "ee90271b",
   "metadata": {},
   "outputs": [
    {
     "name": "stdout",
     "output_type": "stream",
     "text": [
      "이성용! 안녕하세요!!\n"
     ]
    }
   ],
   "source": [
    "greet = f'{name}! {hello}!!'\n",
    "print(greet)"
   ]
  },
  {
   "cell_type": "code",
   "execution_count": 22,
   "id": "a129ab19",
   "metadata": {},
   "outputs": [],
   "source": [
    "greet = f'{name} ~~~~  {a}~~~  {hello}!!'"
   ]
  },
  {
   "cell_type": "code",
   "execution_count": 23,
   "id": "ee58fb95",
   "metadata": {},
   "outputs": [
    {
     "name": "stdout",
     "output_type": "stream",
     "text": [
      "이성용 ~~~~  3.2~~~  안녕하세요!!\n"
     ]
    }
   ],
   "source": [
    "print(greet)"
   ]
  },
  {
   "cell_type": "code",
   "execution_count": 24,
   "id": "8736c776",
   "metadata": {},
   "outputs": [],
   "source": [
    "abc = '이성용이 마재학에게 말했다 \"밥먹어\"'"
   ]
  },
  {
   "cell_type": "code",
   "execution_count": 26,
   "id": "8079da04",
   "metadata": {},
   "outputs": [
    {
     "name": "stdout",
     "output_type": "stream",
     "text": [
      "이성용은 이정재가 '잘 생겼다'고 생각했다\n"
     ]
    }
   ],
   "source": [
    "abc = f\"{name}은 이정재가 '잘 생겼다'고 생각했다\"\n",
    "print(abc)"
   ]
  },
  {
   "cell_type": "code",
   "execution_count": 28,
   "id": "b21a5596",
   "metadata": {},
   "outputs": [
    {
     "name": "stdout",
     "output_type": "stream",
     "text": [
      "이성용은 이정재가 '잘 생겼다'고 생각했다\n"
     ]
    }
   ],
   "source": [
    "print(abc)"
   ]
  },
  {
   "cell_type": "code",
   "execution_count": 29,
   "id": "4ce54bcc",
   "metadata": {},
   "outputs": [
    {
     "data": {
      "text/plain": [
       "3.2"
      ]
     },
     "execution_count": 29,
     "metadata": {},
     "output_type": "execute_result"
    }
   ],
   "source": [
    "abc\n",
    "a\n"
   ]
  },
  {
   "cell_type": "code",
   "execution_count": 30,
   "id": "d3d594af",
   "metadata": {},
   "outputs": [
    {
     "name": "stdout",
     "output_type": "stream",
     "text": [
      "이성용은 이정재가 '잘 생겼다'고 생각했다\n",
      "3.2\n"
     ]
    }
   ],
   "source": [
    "print(abc)\n",
    "print(a)"
   ]
  },
  {
   "cell_type": "code",
   "execution_count": 35,
   "id": "96d59fc9",
   "metadata": {},
   "outputs": [
    {
     "name": "stdout",
     "output_type": "stream",
     "text": [
      "이성용 3.2 안녕하세요\n"
     ]
    }
   ],
   "source": [
    "greet = f'{name} {a} {hello}' \n",
    "print(greet)"
   ]
  },
  {
   "cell_type": "markdown",
   "id": "3e92493a",
   "metadata": {},
   "source": [
    "# 조건문\n",
    "- if\n",
    "- else"
   ]
  },
  {
   "cell_type": "markdown",
   "id": "df21f9fd",
   "metadata": {},
   "source": [
    "\n"
   ]
  },
  {
   "cell_type": "code",
   "execution_count": 44,
   "id": "83d8834b",
   "metadata": {},
   "outputs": [
    {
     "name": "stdout",
     "output_type": "stream",
     "text": [
      "천천히 들어가십시오\n"
     ]
    }
   ],
   "source": [
    "age = 65\n",
    "\n",
    "if age < 15:\n",
    "    print('어린이 입니다.')\n",
    "elif age < 19:\n",
    "    print('청소년 입니다.')\n",
    "elif age >= 65:\n",
    "    print('천천히 들어가십시오')\n",
    "else:\n",
    "    print('어린이가 아닙니다.')\n",
    "    \n"
   ]
  },
  {
   "cell_type": "markdown",
   "id": "ffa4e7b9",
   "metadata": {},
   "source": [
    "# 리스트\n",
    "- 줄줄이 담는 용도"
   ]
  },
  {
   "cell_type": "code",
   "execution_count": 45,
   "id": "ea183173",
   "metadata": {},
   "outputs": [],
   "source": [
    "names = ['이성용', '마재학', '이승연']\n",
    "scores = [88, 97, 95]"
   ]
  },
  {
   "cell_type": "code",
   "execution_count": 46,
   "id": "6197786c",
   "metadata": {},
   "outputs": [
    {
     "data": {
      "text/plain": [
       "'이성용'"
      ]
     },
     "execution_count": 46,
     "metadata": {},
     "output_type": "execute_result"
    }
   ],
   "source": [
    "names[0]"
   ]
  },
  {
   "cell_type": "code",
   "execution_count": 47,
   "id": "4eaf3f46",
   "metadata": {},
   "outputs": [
    {
     "data": {
      "text/plain": [
       "'이승연'"
      ]
     },
     "execution_count": 47,
     "metadata": {},
     "output_type": "execute_result"
    }
   ],
   "source": [
    "names[2]"
   ]
  },
  {
   "cell_type": "code",
   "execution_count": 50,
   "id": "87bc1d06",
   "metadata": {},
   "outputs": [
    {
     "data": {
      "text/plain": [
       "97"
      ]
     },
     "execution_count": 50,
     "metadata": {},
     "output_type": "execute_result"
    }
   ],
   "source": [
    "scores[1]"
   ]
  },
  {
   "cell_type": "code",
   "execution_count": 51,
   "id": "ee29d30b",
   "metadata": {},
   "outputs": [],
   "source": [
    "name_and_score = [names, scores]"
   ]
  },
  {
   "cell_type": "code",
   "execution_count": 52,
   "id": "8a3e2c96",
   "metadata": {},
   "outputs": [
    {
     "data": {
      "text/plain": [
       "['이성용', '마재학', '이승연']"
      ]
     },
     "execution_count": 52,
     "metadata": {},
     "output_type": "execute_result"
    }
   ],
   "source": [
    "name_and_score[0]"
   ]
  },
  {
   "cell_type": "code",
   "execution_count": 53,
   "id": "3d08c092",
   "metadata": {},
   "outputs": [
    {
     "data": {
      "text/plain": [
       "[88, 97, 95]"
      ]
     },
     "execution_count": 53,
     "metadata": {},
     "output_type": "execute_result"
    }
   ],
   "source": [
    "name_and_score[1]"
   ]
  },
  {
   "cell_type": "code",
   "execution_count": 56,
   "id": "76256147",
   "metadata": {},
   "outputs": [
    {
     "data": {
      "text/plain": [
       "'마재학'"
      ]
     },
     "execution_count": 56,
     "metadata": {},
     "output_type": "execute_result"
    }
   ],
   "source": [
    "name_and_score[0][1]"
   ]
  },
  {
   "cell_type": "code",
   "execution_count": 57,
   "id": "a1907944",
   "metadata": {},
   "outputs": [
    {
     "data": {
      "text/plain": [
       "['이성용', '마재학', '이승연']"
      ]
     },
     "execution_count": 57,
     "metadata": {},
     "output_type": "execute_result"
    }
   ],
   "source": [
    "names"
   ]
  },
  {
   "cell_type": "code",
   "execution_count": 58,
   "id": "c29a7767",
   "metadata": {},
   "outputs": [],
   "source": [
    "names.append('민수연')"
   ]
  },
  {
   "cell_type": "code",
   "execution_count": 59,
   "id": "83b46126",
   "metadata": {},
   "outputs": [
    {
     "data": {
      "text/plain": [
       "['이성용', '마재학', '이승연', '민수연']"
      ]
     },
     "execution_count": 59,
     "metadata": {},
     "output_type": "execute_result"
    }
   ],
   "source": [
    "names"
   ]
  },
  {
   "cell_type": "code",
   "execution_count": 60,
   "id": "89886542",
   "metadata": {},
   "outputs": [],
   "source": [
    "scores.append(99)"
   ]
  },
  {
   "cell_type": "code",
   "execution_count": 61,
   "id": "bb993052",
   "metadata": {},
   "outputs": [
    {
     "data": {
      "text/plain": [
       "[88, 97, 95, 99]"
      ]
     },
     "execution_count": 61,
     "metadata": {},
     "output_type": "execute_result"
    }
   ],
   "source": [
    "scores"
   ]
  },
  {
   "cell_type": "markdown",
   "id": "eac0c384",
   "metadata": {},
   "source": [
    "# 반복문"
   ]
  },
  {
   "cell_type": "code",
   "execution_count": 62,
   "id": "0e09f3a9",
   "metadata": {},
   "outputs": [
    {
     "name": "stdout",
     "output_type": "stream",
     "text": [
      "이성용\n",
      "마재학\n",
      "이승연\n",
      "민수연\n"
     ]
    }
   ],
   "source": [
    "for n in names:\n",
    "    print(n)"
   ]
  },
  {
   "cell_type": "code",
   "execution_count": 63,
   "id": "aee060b7",
   "metadata": {},
   "outputs": [
    {
     "name": "stdout",
     "output_type": "stream",
     "text": [
      "0\n",
      "1\n",
      "2\n",
      "3\n",
      "4\n"
     ]
    }
   ],
   "source": [
    "for i in range(5):\n",
    "    print(i)"
   ]
  },
  {
   "cell_type": "code",
   "execution_count": 65,
   "id": "602bdea1",
   "metadata": {},
   "outputs": [
    {
     "name": "stdout",
     "output_type": "stream",
     "text": [
      "안녕안녕안녕안녕안녕\n"
     ]
    }
   ],
   "source": [
    "print('안녕' * 5)"
   ]
  },
  {
   "cell_type": "code",
   "execution_count": 66,
   "id": "47800480",
   "metadata": {},
   "outputs": [
    {
     "name": "stdout",
     "output_type": "stream",
     "text": [
      "\n",
      "안녕\n",
      "안녕안녕\n",
      "안녕안녕안녕\n",
      "안녕안녕안녕안녕\n"
     ]
    }
   ],
   "source": [
    "for i in range(5):\n",
    "    print('안녕' * i)"
   ]
  },
  {
   "cell_type": "code",
   "execution_count": 67,
   "id": "a0efa137",
   "metadata": {},
   "outputs": [
    {
     "data": {
      "text/plain": [
       "['이성용', '마재학', '이승연', '민수연']"
      ]
     },
     "execution_count": 67,
     "metadata": {},
     "output_type": "execute_result"
    }
   ],
   "source": [
    "names "
   ]
  },
  {
   "cell_type": "code",
   "execution_count": 68,
   "id": "9f59a200",
   "metadata": {},
   "outputs": [
    {
     "data": {
      "text/plain": [
       "[88, 97, 95, 99]"
      ]
     },
     "execution_count": 68,
     "metadata": {},
     "output_type": "execute_result"
    }
   ],
   "source": [
    "scores"
   ]
  },
  {
   "cell_type": "code",
   "execution_count": 69,
   "id": "b78903d0",
   "metadata": {},
   "outputs": [
    {
     "data": {
      "text/plain": [
       "4"
      ]
     },
     "execution_count": 69,
     "metadata": {},
     "output_type": "execute_result"
    }
   ],
   "source": [
    "len(names)"
   ]
  },
  {
   "cell_type": "code",
   "execution_count": 70,
   "id": "8fe0625f",
   "metadata": {},
   "outputs": [
    {
     "data": {
      "text/plain": [
       "'이성용'"
      ]
     },
     "execution_count": 70,
     "metadata": {},
     "output_type": "execute_result"
    }
   ],
   "source": [
    "names[0]"
   ]
  },
  {
   "cell_type": "code",
   "execution_count": 71,
   "id": "879d3f8d",
   "metadata": {},
   "outputs": [
    {
     "name": "stdout",
     "output_type": "stream",
     "text": [
      "이성용\n",
      "마재학\n",
      "이승연\n",
      "민수연\n"
     ]
    }
   ],
   "source": [
    "for i in range(len(names)):\n",
    "    print(names[i])"
   ]
  },
  {
   "cell_type": "code",
   "execution_count": 72,
   "id": "c26474c5",
   "metadata": {},
   "outputs": [
    {
     "name": "stdout",
     "output_type": "stream",
     "text": [
      "이성용 88\n",
      "마재학 97\n",
      "이승연 95\n",
      "민수연 99\n"
     ]
    }
   ],
   "source": [
    "for i in range(len(names)):\n",
    "    print(names[i], scores[i])"
   ]
  },
  {
   "cell_type": "code",
   "execution_count": 74,
   "id": "32b90700",
   "metadata": {},
   "outputs": [
    {
     "name": "stdout",
     "output_type": "stream",
     "text": [
      "이성용 평범함\n",
      "마재학 똑똑함\n",
      "이승연 평범함\n",
      "민수연 똑똑함\n"
     ]
    }
   ],
   "source": [
    "for i in range(len(names)):\n",
    "    if scores[i] > 95:\n",
    "        print(names[i], '똑똑함')\n",
    "    else:\n",
    "        print(names[i], '평범함')"
   ]
  },
  {
   "cell_type": "code",
   "execution_count": 75,
   "id": "27f6dee6",
   "metadata": {},
   "outputs": [
    {
     "data": {
      "text/plain": [
       "['이성용', '마재학', '이승연', '민수연', '정유리']"
      ]
     },
     "execution_count": 75,
     "metadata": {},
     "output_type": "execute_result"
    }
   ],
   "source": [
    "names.append('정유리')\n",
    "names"
   ]
  },
  {
   "cell_type": "code",
   "execution_count": 76,
   "id": "b3534c88",
   "metadata": {},
   "outputs": [
    {
     "data": {
      "text/plain": [
       "[88, 97, 95, 99]"
      ]
     },
     "execution_count": 76,
     "metadata": {},
     "output_type": "execute_result"
    }
   ],
   "source": [
    "scores"
   ]
  },
  {
   "cell_type": "code",
   "execution_count": 77,
   "id": "f7f3b653",
   "metadata": {},
   "outputs": [
    {
     "name": "stdout",
     "output_type": "stream",
     "text": [
      "이성용 평범함\n",
      "마재학 똑똑함\n",
      "이승연 평범함\n",
      "민수연 똑똑함\n"
     ]
    },
    {
     "ename": "IndexError",
     "evalue": "list index out of range",
     "output_type": "error",
     "traceback": [
      "\u001b[1;31m---------------------------------------------------------------------------\u001b[0m",
      "\u001b[1;31mIndexError\u001b[0m                                Traceback (most recent call last)",
      "\u001b[1;32m~\\AppData\\Local\\Temp/ipykernel_24076/3958137634.py\u001b[0m in \u001b[0;36m<module>\u001b[1;34m\u001b[0m\n\u001b[0;32m      1\u001b[0m \u001b[1;32mfor\u001b[0m \u001b[0mi\u001b[0m \u001b[1;32min\u001b[0m \u001b[0mrange\u001b[0m\u001b[1;33m(\u001b[0m\u001b[0mlen\u001b[0m\u001b[1;33m(\u001b[0m\u001b[0mnames\u001b[0m\u001b[1;33m)\u001b[0m\u001b[1;33m)\u001b[0m\u001b[1;33m:\u001b[0m\u001b[1;33m\u001b[0m\u001b[1;33m\u001b[0m\u001b[0m\n\u001b[1;32m----> 2\u001b[1;33m     \u001b[1;32mif\u001b[0m \u001b[0mscores\u001b[0m\u001b[1;33m[\u001b[0m\u001b[0mi\u001b[0m\u001b[1;33m]\u001b[0m \u001b[1;33m>\u001b[0m \u001b[1;36m95\u001b[0m\u001b[1;33m:\u001b[0m\u001b[1;33m\u001b[0m\u001b[1;33m\u001b[0m\u001b[0m\n\u001b[0m\u001b[0;32m      3\u001b[0m         \u001b[0mprint\u001b[0m\u001b[1;33m(\u001b[0m\u001b[0mnames\u001b[0m\u001b[1;33m[\u001b[0m\u001b[0mi\u001b[0m\u001b[1;33m]\u001b[0m\u001b[1;33m,\u001b[0m \u001b[1;34m'똑똑함'\u001b[0m\u001b[1;33m)\u001b[0m\u001b[1;33m\u001b[0m\u001b[1;33m\u001b[0m\u001b[0m\n\u001b[0;32m      4\u001b[0m     \u001b[1;32melse\u001b[0m\u001b[1;33m:\u001b[0m\u001b[1;33m\u001b[0m\u001b[1;33m\u001b[0m\u001b[0m\n\u001b[0;32m      5\u001b[0m         \u001b[0mprint\u001b[0m\u001b[1;33m(\u001b[0m\u001b[0mnames\u001b[0m\u001b[1;33m[\u001b[0m\u001b[0mi\u001b[0m\u001b[1;33m]\u001b[0m\u001b[1;33m,\u001b[0m \u001b[1;34m'평범함'\u001b[0m\u001b[1;33m)\u001b[0m\u001b[1;33m\u001b[0m\u001b[1;33m\u001b[0m\u001b[0m\n",
      "\u001b[1;31mIndexError\u001b[0m: list index out of range"
     ]
    }
   ],
   "source": [
    "for i in range(len(names)):\n",
    "    if scores[i] > 95:\n",
    "        print(names[i], '똑똑함')\n",
    "    else:\n",
    "        print(names[i], '평범함')"
   ]
  },
  {
   "cell_type": "markdown",
   "id": "6b120b22",
   "metadata": {},
   "source": [
    "개발자 남편이 퇴근길에 아내에게 전화를 한다.\n",
    "\n",
    "남편: 나 집에 가는 길에 마트 들를건데, 뭐 사가?\n",
    "\n",
    "아내: 우유 두개 사와\n",
    "\n",
    "남편: 그리고?\n",
    "\n",
    "아내: 만약 마트에 달걀이 있으면 여섯개 사와\n",
    "\n",
    "10분 뒤, 남편은 6개의 우유를 건낸다.\n",
    "\n",
    "======================================\n",
    "\n",
    "이 이야기를 들은 나의 생각: 8개를 사와야 하는거 아닌가?"
   ]
  },
  {
   "cell_type": "code",
   "execution_count": 85,
   "id": "a0f98eb8",
   "metadata": {},
   "outputs": [
    {
     "name": "stdout",
     "output_type": "stream",
     "text": [
      "['달걀', '달걀', '달걀', '달걀', '달걀', '달걀', '달걀', '달걀', '달걀', '달걀', '달걀', '달걀', '달걀', '달걀', '달걀', '달걀', '달걀', '달걀', '달걀', '달걀', '달걀', '달걀', '달걀', '달걀', '달걀', '달걀', '달걀', '달걀', '달걀', '달걀', '달걀', '달걀', '달걀', '달걀', '달걀', '달걀', '달걀', '달걀', '달걀', '달걀', '달걀', '달걀', '달걀', '달걀', '달걀', '달걀', '달걀', '달걀', '달걀', '달걀', '달걀', '달걀', '달걀', '달걀', '달걀', '달걀', '달걀', '달걀', '달걀', '달걀', '달걀', '달걀', '달걀', '달걀', '달걀', '달걀', '달걀', '달걀', '달걀', '달걀', '달걀', '달걀', '달걀', '달걀', '달걀', '달걀', '달걀', '달걀', '달걀', '달걀', '달걀', '달걀', '달걀', '달걀', '달걀', '달걀', '달걀', '달걀', '달걀', '달걀', '달걀', '달걀', '달걀', '달걀', '달걀', '달걀', '달걀', '달걀', '달걀', '달걀', '우유', '우유', '우유', '우유', '우유', '우유', '우유', '우유', '우유', '우유', '우유', '우유', '우유', '우유', '우유', '우유', '우유', '우유', '우유', '우유', '우유', '우유', '우유', '우유', '우유', '우유', '우유', '우유', '우유', '우유']\n"
     ]
    }
   ],
   "source": [
    "# 주석은 #으로 표시한다. \n",
    "# 마트에 배달차가 아침에 상품을 진열한다. \n",
    "\n",
    "mart = [] # 비어있는 리스트\n",
    "\n",
    "for i in range(100):\n",
    "    mart.append('달걀')\n",
    "\n",
    "for i in range(30):\n",
    "    mart.append('우유')\n",
    "    \n",
    "print(mart)"
   ]
  },
  {
   "cell_type": "code",
   "execution_count": 86,
   "id": "3eaf1f1a",
   "metadata": {},
   "outputs": [],
   "source": [
    "# 개발자 남편이 퇴근길에 아내에게 전화를 한다.\n",
    "# 남편: 나 집에 가는 길에 마트 들를건데, 뭐 사가?\n",
    "# 아내: 우유 두개 사와\n",
    "\n",
    "what = '우유'"
   ]
  },
  {
   "cell_type": "code",
   "execution_count": 82,
   "id": "18b5372e",
   "metadata": {},
   "outputs": [
    {
     "name": "stdout",
     "output_type": "stream",
     "text": [
      "['우유', '우유']\n"
     ]
    }
   ],
   "source": [
    "cart = []\n",
    "\n",
    "# 우유를 두개 산다. \n",
    "mart.remove(what)\n",
    "mart.remove(what)\n",
    "\n",
    "cart.append(what)\n",
    "cart.append(what)\n",
    "\n",
    "print(cart)"
   ]
  },
  {
   "cell_type": "code",
   "execution_count": 83,
   "id": "34b81430",
   "metadata": {},
   "outputs": [
    {
     "name": "stdout",
     "output_type": "stream",
     "text": [
      "128\n"
     ]
    }
   ],
   "source": [
    "print(len(mart))"
   ]
  },
  {
   "cell_type": "code",
   "execution_count": 84,
   "id": "6a6852c6",
   "metadata": {},
   "outputs": [
    {
     "name": "stdout",
     "output_type": "stream",
     "text": [
      "['우유', '우유', '우유', '우유', '우유', '우유', '우유', '우유']\n"
     ]
    }
   ],
   "source": [
    "# 만약 마트에 달걀이 있으면 여섯개 사와 \n",
    "\n",
    "if '달걀' in mart:\n",
    "    for i in range(6):\n",
    "        cart.append(what)\n",
    "        mart.remove(what)\n",
    "        \n",
    "print(cart)"
   ]
  },
  {
   "cell_type": "markdown",
   "id": "4cce1aaf",
   "metadata": {},
   "source": [
    "# 함수"
   ]
  },
  {
   "cell_type": "code",
   "execution_count": 87,
   "id": "f2a8b800",
   "metadata": {},
   "outputs": [
    {
     "name": "stdout",
     "output_type": "stream",
     "text": [
      "30\n"
     ]
    }
   ],
   "source": [
    "def multiply(a, b):\n",
    "    return a * b\n",
    "\n",
    "c = multiply(3, 10)\n",
    "print(c)"
   ]
  },
  {
   "cell_type": "code",
   "execution_count": 88,
   "id": "59e76cf1",
   "metadata": {},
   "outputs": [
    {
     "name": "stdout",
     "output_type": "stream",
     "text": [
      "50\n"
     ]
    }
   ],
   "source": [
    "d = multiply(10, 5)\n",
    "print(d)"
   ]
  },
  {
   "cell_type": "code",
   "execution_count": 89,
   "id": "9149872d",
   "metadata": {},
   "outputs": [
    {
     "name": "stdout",
     "output_type": "stream",
     "text": [
      "['우유', '우유', '우유', '우유', '우유', '우유', '우유', '우유', '달걀']\n"
     ]
    }
   ],
   "source": [
    "def buy(what, mart, cart):\n",
    "    mart.remove(what)\n",
    "    cart.append(what)\n",
    "    \n",
    "    return mart, cart\n",
    "    \n",
    "mart, cart = buy('달걀', mart, cart)\n",
    "print(cart)\n"
   ]
  },
  {
   "cell_type": "markdown",
   "id": "298c2953",
   "metadata": {},
   "source": [
    "a = 3"
   ]
  },
  {
   "cell_type": "code",
   "execution_count": null,
   "id": "98cb1287",
   "metadata": {},
   "outputs": [],
   "source": []
  }
 ],
 "metadata": {
  "kernelspec": {
   "display_name": "Python 3 (ipykernel)",
   "language": "python",
   "name": "python3"
  },
  "language_info": {
   "codemirror_mode": {
    "name": "ipython",
    "version": 3
   },
   "file_extension": ".py",
   "mimetype": "text/x-python",
   "name": "python",
   "nbconvert_exporter": "python",
   "pygments_lexer": "ipython3",
   "version": "3.9.7"
  }
 },
 "nbformat": 4,
 "nbformat_minor": 5
}
